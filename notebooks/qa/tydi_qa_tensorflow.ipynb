{
 "cells": [
  {
   "cell_type": "markdown",
   "metadata": {
    "id": "qXxDTf7VGDya"
   },
   "source": [
    "# Question Answering (QA) on TyDI QA dataset\n",
    "\n",
    "TyDI QA is a multilingual dataset. We will try to reproduce the authors' results in the following notebook using the [official](https://github.com/google-research/language/tree/master/language/canine) implementation of CANINE (in TensorFlow)."
   ]
  },
  {
   "cell_type": "code",
   "execution_count": null,
   "metadata": {
    "id": "i4LW5OgSAJgp"
   },
   "outputs": [],
   "source": [
    "!git clone --quiet https://github.com/google-research/language.git"
   ]
  },
  {
   "cell_type": "code",
   "execution_count": null,
   "metadata": {
    "id": "JttWA-FEGOz6"
   },
   "outputs": [],
   "source": [
    "!pip3 install --upgrade tensorflow-gpu &> /dev/null\n",
    "!pip3 install absl-py &> /dev/null\n",
    "!pip3 install tf-slim &> /dev/null"
   ]
  },
  {
   "cell_type": "code",
   "execution_count": null,
   "metadata": {
    "colab": {
     "base_uri": "https://localhost:8080/"
    },
    "id": "OzOeJER8xvgW",
    "outputId": "94beb7fc-cde4-486b-838f-39d9700df450"
   },
   "outputs": [
    {
     "name": "stdout",
     "output_type": "stream",
     "text": [
      "Reading package lists... Done\n",
      "Building dependency tree       \n",
      "Reading state information... Done\n",
      "The following packages will be REMOVED:\n",
      "  libcudnn8-dev\n",
      "The following held packages will be changed:\n",
      "  libcudnn8\n",
      "The following packages will be upgraded:\n",
      "  libcudnn8\n",
      "1 upgraded, 0 newly installed, 1 to remove and 37 not upgraded.\n",
      "Need to get 430 MB of archives.\n",
      "After this operation, 3,139 MB disk space will be freed.\n",
      "Get:1 https://developer.download.nvidia.com/compute/cuda/repos/ubuntu1804/x86_64  libcudnn8 8.1.0.77-1+cuda11.2 [430 MB]\n",
      "Fetched 430 MB in 8s (53.8 MB/s)\n",
      "(Reading database ... 155335 files and directories currently installed.)\n",
      "Removing libcudnn8-dev (8.0.5.39-1+cuda11.1) ...\n",
      "(Reading database ... 155313 files and directories currently installed.)\n",
      "Preparing to unpack .../libcudnn8_8.1.0.77-1+cuda11.2_amd64.deb ...\n",
      "Unpacking libcudnn8 (8.1.0.77-1+cuda11.2) over (8.0.5.39-1+cuda11.1) ...\n",
      "Setting up libcudnn8 (8.1.0.77-1+cuda11.2) ...\n"
     ]
    }
   ],
   "source": [
    "!apt install --allow-change-held-packages libcudnn8=8.1.0.77-1+cuda11.2"
   ]
  },
  {
   "cell_type": "markdown",
   "metadata": {
    "id": "5uRzV0WfHGSo"
   },
   "source": [
    "## Get data\n",
    "\n",
    "Instructions: https://github.com/google-research-datasets/tydiqa#download-the-dataset"
   ]
  },
  {
   "cell_type": "code",
   "execution_count": null,
   "metadata": {
    "id": "FPwmlUgsHFxr"
   },
   "outputs": [],
   "source": [
    "!wget https://storage.googleapis.com/tydiqa/v1.0/tydiqa-v1.0-dev.jsonl.gz\n",
    "!wget https://storage.googleapis.com/tydiqa/v1.0/tydiqa-v1.0-train.jsonl.gz"
   ]
  },
  {
   "cell_type": "code",
   "execution_count": null,
   "metadata": {
    "colab": {
     "base_uri": "https://localhost:8080/"
    },
    "id": "pWHODaqv-CQu",
    "outputId": "e499dc09-dbb5-4371-a3dc-4e105ce43451"
   },
   "outputs": [
    {
     "name": "stdout",
     "output_type": "stream",
     "text": [
      "Mounted at /content/drive\n"
     ]
    }
   ],
   "source": [
    "from google.colab import drive\n",
    "drive.mount('/content/drive')"
   ]
  },
  {
   "cell_type": "markdown",
   "metadata": {
    "id": "MPWZl3eTIEwz"
   },
   "source": [
    "## Prepare data for finetuning"
   ]
  },
  {
   "cell_type": "code",
   "execution_count": null,
   "metadata": {
    "id": "FPmlsNi6Hlx2",
    "scrolled": true
   },
   "outputs": [],
   "source": [
    "%cd \"./language/\"\n",
    "!python3 -m language.canine.tydiqa.prepare_tydi_data \\\n",
    "  --input_jsonl=tydiqa-v1.0-dev.jsonl.gz \\\n",
    "  --output_tfrecord=/content/drive/MyDrive/models/dev.tfrecord \\\n",
    "  --max_seq_length=2048 \\\n",
    "  --doc_stride=512 \\\n",
    "  --max_question_length=256 \\\n",
    "  --is_training=false"
   ]
  },
  {
   "cell_type": "code",
   "execution_count": null,
   "metadata": {
    "id": "lez0hU3vJSwC"
   },
   "outputs": [],
   "source": [
    "!python3 -m language.canine.tydiqa.prepare_tydi_data \\\n",
    "  --input_jsonl=tydiqa-v1.0-train.jsonl.gz \\\n",
    "  --output_tfrecord=/content/drive/MyDrive/models/train_samples.tfrecord \\\n",
    "  --record_count_file=/content/drive/MyDrive/models/train_samples_record_count.txt \\\n",
    "  --max_seq_length=2048 \\\n",
    "  --doc_stride=512 \\\n",
    "  --max_question_length=256 \\\n",
    "  --include_unknowns=0.1 \\\n",
    "  --is_training=true"
   ]
  },
  {
   "cell_type": "markdown",
   "metadata": {
    "id": "34w4Li3cNfur"
   },
   "source": [
    "## Training"
   ]
  },
  {
   "cell_type": "code",
   "execution_count": null,
   "metadata": {
    "id": "d1ckXufhDxmN"
   },
   "outputs": [],
   "source": [
    "!python3 -m language.canine.tydiqa.run_tydi \\\n",
    "  --model_config_file=/content/drive/MyDrive/models/canine-c/canine_config.json \\\n",
    "  --init_checkpoint=/content/drive/MyDrive/models/tydiqa_run5 \\\n",
    "  --train_records_file=/content/drive/MyDrive/models/train_samples.tfrecord \\\n",
    "  --record_count_file=/content/drive/MyDrive/models/train_samples_record_count.txt \\\n",
    "  --do_train \\\n",
    "  --max_seq_length=2048 \\\n",
    "  --train_batch_size=4 \\\n",
    "  --learning_rate=5e-5 \\\n",
    "  --num_train_epochs=5 \\\n",
    "  --warmup_proportion=0.1 \\\n",
    "  --output_dir=/content/drive/MyDrive/models/tydiqa_run6 \\"
   ]
  },
  {
   "cell_type": "markdown",
   "metadata": {
    "id": "LVpsyALWscH2"
   },
   "source": [
    "# Predict using finetuned model"
   ]
  },
  {
   "cell_type": "code",
   "execution_count": null,
   "metadata": {
    "colab": {
     "background_save": true
    },
    "id": "pSZMZtGtpkwE"
   },
   "outputs": [],
   "source": [
    "!python3 -m language.canine.tydiqa.run_tydi \\\n",
    "  --model_config_file=/content/drive/MyDrive/models/canine-c/canine_config.json \\\n",
    "  --init_checkpoint=/content/drive/MyDrive/models/tydiqa_run6/ \\\n",
    "  --predict_file=/content/drive/MyDrive/models/tydiqa-v1.0-dev.jsonl.gz \\\n",
    "  --do_predict \\\n",
    "  --max_seq_length=2048 \\\n",
    "  --max_answer_length=100 \\\n",
    "  --candidate_beam=30 \\\n",
    "  --predict_batch_size=4 \\\n",
    "  --max_passages=45 \\\n",
    "  --max_position=45 \\\n",
    "  --doc_stride=512 \\\n",
    "  --max_seq_length=2048 \\\n",
    "  --max_question_length=256 \\\n",
    "  --include_unknowns=-1 \\\n",
    "  --predict_file_shard_size=1000 \\\n",
    "  --output_dir=/content/drive/MyDrive/models/tydiqa_run6/predict \\\n",
    "  --output_prediction_file=/content/drive/MyDrive/models/tydiqa_run6/predict/pred.jsonl \\"
   ]
  },
  {
   "cell_type": "markdown",
   "source": [
    "# Evaluation\n",
    "\n",
    "To evaluate the predictions of our model we will follow the official guidelines, available [here](https://github.com/google-research-datasets/tydiqa)"
   ],
   "metadata": {
    "id": "oJHCB4AXPZL5"
   }
  },
  {
   "cell_type": "code",
   "source": [
    "!git clone --quiet https://github.com/google-research-datasets/tydiqa.git\n",
    "%cd \"./tydiqa/\"\n",
    "!python3 tydi_eval.py \\\n",
    "  --gold_path=/content/drive/MyDrive/models/tydiqa-v1.0-dev.jsonl.gz \\\n",
    "  --predictions_path=/content/drive/MyDrive/models/tydiqa_run6/predict/pred.jsonl\n"
   ],
   "metadata": {
    "id": "FMHK8RnmPlla"
   },
   "execution_count": null,
   "outputs": []
  }
 ],
 "metadata": {
  "accelerator": "GPU",
  "colab": {
   "background_execution": "on",
   "collapsed_sections": [],
   "machine_shape": "hm",
   "name": "tydi_qa_tensorflow.ipynb",
   "provenance": []
  },
  "kernelspec": {
   "display_name": "Python 3 (ipykernel)",
   "language": "python",
   "name": "python3"
  },
  "language_info": {
   "codemirror_mode": {
    "name": "ipython",
    "version": 3
   },
   "file_extension": ".py",
   "mimetype": "text/x-python",
   "name": "python",
   "nbconvert_exporter": "python",
   "pygments_lexer": "ipython3",
   "version": "3.8.10"
  }
 },
 "nbformat": 4,
 "nbformat_minor": 0
}